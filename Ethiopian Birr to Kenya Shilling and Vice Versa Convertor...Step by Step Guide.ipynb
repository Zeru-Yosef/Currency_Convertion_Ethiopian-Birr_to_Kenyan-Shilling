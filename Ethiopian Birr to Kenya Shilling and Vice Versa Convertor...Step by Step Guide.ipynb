{
 "cells": [
  {
   "cell_type": "code",
   "execution_count": 4,
   "metadata": {},
   "outputs": [
    {
     "name": "stdout",
     "output_type": "stream",
     "text": [
      "2.43\n",
      "0.43\n"
     ]
    }
   ],
   "source": [
    "#Declare Todays Exchange Rate of Ethiopian Birr to Kenyan Shillings and Vice Versa\n",
    "ETB_to_KS = 2.43\n",
    "KS_to_ETB = 0.43\n",
    "print(ETB_to_KS)\n",
    "print(KS_to_ETB)"
   ]
  },
  {
   "cell_type": "code",
   "execution_count": 1,
   "metadata": {},
   "outputs": [
    {
     "name": "stdout",
     "output_type": "stream",
     "text": [
      "Ethiopian Birr To Kenyan Shilling Converter!!\n"
     ]
    }
   ],
   "source": [
    "#Begining Message\n",
    "print(\"Ethiopian Birr To Kenyan Shilling Converter!!\")\n",
    "     #1 - Convert from ETB to KS\n",
    "     #2 - Convert from KS to ETB\n",
    "     #3 - Exit Calculator\n"
   ]
  },
  {
   "cell_type": "code",
   "execution_count": 9,
   "metadata": {},
   "outputs": [
    {
     "name": "stdout",
     "output_type": "stream",
     "text": [
      "Please Chose the Currency Type:2\n"
     ]
    }
   ],
   "source": [
    "#Set Currency Choice 1, 2, or 3 as defined above for user entry.\n",
    "CURRENCY_CHOISE = input(\"Please Chose the Currency Type:\")"
   ]
  },
  {
   "cell_type": "code",
   "execution_count": 10,
   "metadata": {},
   "outputs": [],
   "source": [
    "#Change Ethiopian Birr to Kenyan Shilling by Entering Amount\n",
    "if CURRENCY_CHOISE == \"1\":\n",
    "    ETB = float(input(\"Please Enter amount of Birr:\"))\n",
    "    OUTPUT = ETB * ETB_to_KS\n",
    "    print(\"The Amount In Kenyan Shilling Is:\", OUTPUT)"
   ]
  },
  {
   "cell_type": "code",
   "execution_count": 11,
   "metadata": {},
   "outputs": [
    {
     "name": "stdout",
     "output_type": "stream",
     "text": [
      "Please Enter amount of KS:1000\n",
      "The Amount In Ethiopian Birr Is: 430.0\n"
     ]
    }
   ],
   "source": [
    "#Change Kenyan Shilling to Ethiopian Birr by Entering Amount\n",
    "if CURRENCY_CHOISE == \"2\":\n",
    "    KS = float(input(\"Please Enter amount of KS:\"))\n",
    "    OUTPUT = KS * KS_to_ETB\n",
    "    print(\"The Amount In Ethiopian Birr Is:\", OUTPUT)"
   ]
  },
  {
   "cell_type": "code",
   "execution_count": null,
   "metadata": {},
   "outputs": [],
   "source": [
    "#Set Currency Choise 1, 2, or 3 as defined above.\n",
    "CURRENCY_CHOISE = input(\"Please Chose the Currency:\")\n",
    "#Change currency by Entering Amount\n",
    "if CURRENCY_CHOISE == \"1\":\n",
    "    ETB = float(input(\"Please Enter amount of Birr:\"))\n",
    "    OUTPUT = ETB * ETB_to_KS\n",
    "    print(\"The Amount In Kenyan Shilling Is:\", OUTPUT)\n",
    "elif CURRENCY_CHOISE == \"2\":\n",
    "    KS = float(input(\"Please Enter amoun of Shilling:\"))\n",
    "    OUTPUT = KS * KS_to_ETB\n",
    "    print(\"The Amount In Ethiopian Birr:\", OUTPUT)\n",
    "elif CURRENCY_CHOISE == \"3\":\n",
    "    exit\n",
    "else:\n",
    "    print(\"Invalid Entry\")"
   ]
  },
  {
   "cell_type": "code",
   "execution_count": null,
   "metadata": {},
   "outputs": [],
   "source": []
  },
  {
   "cell_type": "code",
   "execution_count": null,
   "metadata": {},
   "outputs": [],
   "source": []
  }
 ],
 "metadata": {
  "kernelspec": {
   "display_name": "Python 3",
   "language": "python",
   "name": "python3"
  },
  "language_info": {
   "codemirror_mode": {
    "name": "ipython",
    "version": 3
   },
   "file_extension": ".py",
   "mimetype": "text/x-python",
   "name": "python",
   "nbconvert_exporter": "python",
   "pygments_lexer": "ipython3",
   "version": "3.8.5"
  }
 },
 "nbformat": 4,
 "nbformat_minor": 4
}
