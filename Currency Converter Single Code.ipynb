{
 "cells": [
  {
   "cell_type": "code",
   "execution_count": 7,
   "metadata": {},
   "outputs": [
    {
     "name": "stdout",
     "output_type": "stream",
     "text": [
      "Ethiopian Birr To Kenyan Shilling Converter!!\n",
      "Please Chose the Currency Type:1\n",
      "Please Enter amount of Birr:1000\n",
      "The Amount In Kenyan Shilling Is: 2430.0\n"
     ]
    }
   ],
   "source": [
    "#Declare Todays Exchange Rate of Ethiopian Birr to Kenyan Shillings and Vice Versa\n",
    "ETB_to_KS = 2.43\n",
    "KS_to_ETB = 0.43\n",
    "print(\"Ethiopian Birr To Kenyan Shilling Converter!!\")\n",
    "     #1 - Convert from ETB to KS\n",
    "     #2 - Convert from KS to ETB\n",
    "     #3 - Exit Calculator\n",
    "#Set Currency Choise 1, 2, or 3 as defined above.\n",
    "CURRENCY_CHOISE = input(\"Please Chose the Currency Type:\")\n",
    "#Change currency by Entering Amount\n",
    "if CURRENCY_CHOISE == \"1\":\n",
    "    ETB = float(input(\"Please Enter amount of Birr:\"))\n",
    "    OUTPUT = ETB * ETB_to_KS\n",
    "    print(\"The Amount In Kenyan Shilling Is:\", OUTPUT)\n",
    "elif CURRENCY_CHOISE == \"2\":\n",
    "    KS = float(input(\"Please Enter amoun of Shilling:\"))\n",
    "    OUTPUT = KS * KS_to_ETB\n",
    "    print(\"The Amount In Ethiopian Birr:\", OUTPUT)\n",
    "elif CURRENCY_CHOISE == \"3\":\n",
    "    exit\n",
    "else:\n",
    "    print(\"Invalid Entry\")"
   ]
  },
  {
   "cell_type": "code",
   "execution_count": null,
   "metadata": {},
   "outputs": [],
   "source": []
  },
  {
   "cell_type": "code",
   "execution_count": null,
   "metadata": {},
   "outputs": [],
   "source": []
  }
 ],
 "metadata": {
  "kernelspec": {
   "display_name": "Python 3",
   "language": "python",
   "name": "python3"
  },
  "language_info": {
   "codemirror_mode": {
    "name": "ipython",
    "version": 3
   },
   "file_extension": ".py",
   "mimetype": "text/x-python",
   "name": "python",
   "nbconvert_exporter": "python",
   "pygments_lexer": "ipython3",
   "version": "3.8.5"
  }
 },
 "nbformat": 4,
 "nbformat_minor": 4
}
